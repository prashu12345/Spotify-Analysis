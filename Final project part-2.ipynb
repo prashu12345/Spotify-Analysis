{
 "cells": [
  {
   "cell_type": "code",
   "execution_count": 73,
   "id": "fab09bd8-92f8-497d-a928-6fd1f34da2be",
   "metadata": {},
   "outputs": [],
   "source": [
    "# importing necessary libraries for sentimental analysis\n",
    "import numpy as np\n",
    "import pandas as pd\n",
    "from cytoolz import *\n",
    "from sklearn.feature_extraction.text import CountVectorizer, TfidfTransformer\n",
    "from sklearn.model_selection import train_test_split\n",
    "from sklearn.linear_model import SGDClassifier\n",
    "from sklearn.metrics import classification_report, f1_score\n",
    "from sklearn.pipeline import make_pipeline\n",
    "from tqdm.auto import tqdm\n",
    "\n",
    "tqdm.pandas()"
   ]
  },
  {
   "cell_type": "code",
   "execution_count": 74,
   "id": "bf208d32-3b0b-4a26-98f5-64e149ad0de1",
   "metadata": {},
   "outputs": [
    {
     "data": {
      "text/html": [
       "<div>\n",
       "<style scoped>\n",
       "    .dataframe tbody tr th:only-of-type {\n",
       "        vertical-align: middle;\n",
       "    }\n",
       "\n",
       "    .dataframe tbody tr th {\n",
       "        vertical-align: top;\n",
       "    }\n",
       "\n",
       "    .dataframe thead th {\n",
       "        text-align: right;\n",
       "    }\n",
       "</style>\n",
       "<table border=\"1\" class=\"dataframe\">\n",
       "  <thead>\n",
       "    <tr style=\"text-align: right;\">\n",
       "      <th></th>\n",
       "      <th>Review</th>\n",
       "      <th>Rating</th>\n",
       "      <th>Total_thumbsup</th>\n",
       "      <th>Reply</th>\n",
       "    </tr>\n",
       "    <tr>\n",
       "      <th>Time_submitted</th>\n",
       "      <th></th>\n",
       "      <th></th>\n",
       "      <th></th>\n",
       "      <th></th>\n",
       "    </tr>\n",
       "  </thead>\n",
       "  <tbody>\n",
       "    <tr>\n",
       "      <th>2022-07-09 15:00:00</th>\n",
       "      <td>Great music service, the audio is high quality...</td>\n",
       "      <td>5</td>\n",
       "      <td>2</td>\n",
       "      <td>NaN</td>\n",
       "    </tr>\n",
       "    <tr>\n",
       "      <th>2022-07-09 14:21:22</th>\n",
       "      <td>Please ignore previous negative rating. This a...</td>\n",
       "      <td>5</td>\n",
       "      <td>1</td>\n",
       "      <td>NaN</td>\n",
       "    </tr>\n",
       "    <tr>\n",
       "      <th>2022-07-09 13:27:32</th>\n",
       "      <td>This pop-up \"Get the best Spotify experience o...</td>\n",
       "      <td>4</td>\n",
       "      <td>0</td>\n",
       "      <td>NaN</td>\n",
       "    </tr>\n",
       "    <tr>\n",
       "      <th>2022-07-09 13:26:45</th>\n",
       "      <td>Really buggy and terrible to use as of recently</td>\n",
       "      <td>1</td>\n",
       "      <td>1</td>\n",
       "      <td>NaN</td>\n",
       "    </tr>\n",
       "    <tr>\n",
       "      <th>2022-07-09 13:20:49</th>\n",
       "      <td>Dear Spotify why do I get songs that I didn't ...</td>\n",
       "      <td>1</td>\n",
       "      <td>1</td>\n",
       "      <td>NaN</td>\n",
       "    </tr>\n",
       "    <tr>\n",
       "      <th>...</th>\n",
       "      <td>...</td>\n",
       "      <td>...</td>\n",
       "      <td>...</td>\n",
       "      <td>...</td>\n",
       "    </tr>\n",
       "    <tr>\n",
       "      <th>2022-01-01 03:01:29</th>\n",
       "      <td>Even though it was communicated that lyrics fe...</td>\n",
       "      <td>1</td>\n",
       "      <td>6</td>\n",
       "      <td>NaN</td>\n",
       "    </tr>\n",
       "    <tr>\n",
       "      <th>2022-01-01 02:13:40</th>\n",
       "      <td>Use to be sooo good back when I had it, and wh...</td>\n",
       "      <td>1</td>\n",
       "      <td>0</td>\n",
       "      <td>NaN</td>\n",
       "    </tr>\n",
       "    <tr>\n",
       "      <th>2022-01-01 01:02:29</th>\n",
       "      <td>This app would be good if not for it taking ov...</td>\n",
       "      <td>2</td>\n",
       "      <td>10</td>\n",
       "      <td>NaN</td>\n",
       "    </tr>\n",
       "    <tr>\n",
       "      <th>2022-01-01 00:49:23</th>\n",
       "      <td>The app is good hard to navigate and won't jus...</td>\n",
       "      <td>2</td>\n",
       "      <td>1</td>\n",
       "      <td>NaN</td>\n",
       "    </tr>\n",
       "    <tr>\n",
       "      <th>2022-01-01 00:19:09</th>\n",
       "      <td>Its good but sometimes it doesnt load the musi...</td>\n",
       "      <td>4</td>\n",
       "      <td>0</td>\n",
       "      <td>NaN</td>\n",
       "    </tr>\n",
       "  </tbody>\n",
       "</table>\n",
       "<p>61594 rows × 4 columns</p>\n",
       "</div>"
      ],
      "text/plain": [
       "                                                                Review  \\\n",
       "Time_submitted                                                           \n",
       "2022-07-09 15:00:00  Great music service, the audio is high quality...   \n",
       "2022-07-09 14:21:22  Please ignore previous negative rating. This a...   \n",
       "2022-07-09 13:27:32  This pop-up \"Get the best Spotify experience o...   \n",
       "2022-07-09 13:26:45    Really buggy and terrible to use as of recently   \n",
       "2022-07-09 13:20:49  Dear Spotify why do I get songs that I didn't ...   \n",
       "...                                                                ...   \n",
       "2022-01-01 03:01:29  Even though it was communicated that lyrics fe...   \n",
       "2022-01-01 02:13:40  Use to be sooo good back when I had it, and wh...   \n",
       "2022-01-01 01:02:29  This app would be good if not for it taking ov...   \n",
       "2022-01-01 00:49:23  The app is good hard to navigate and won't jus...   \n",
       "2022-01-01 00:19:09  Its good but sometimes it doesnt load the musi...   \n",
       "\n",
       "                     Rating  Total_thumbsup Reply  \n",
       "Time_submitted                                     \n",
       "2022-07-09 15:00:00       5               2   NaN  \n",
       "2022-07-09 14:21:22       5               1   NaN  \n",
       "2022-07-09 13:27:32       4               0   NaN  \n",
       "2022-07-09 13:26:45       1               1   NaN  \n",
       "2022-07-09 13:20:49       1               1   NaN  \n",
       "...                     ...             ...   ...  \n",
       "2022-01-01 03:01:29       1               6   NaN  \n",
       "2022-01-01 02:13:40       1               0   NaN  \n",
       "2022-01-01 01:02:29       2              10   NaN  \n",
       "2022-01-01 00:49:23       2               1   NaN  \n",
       "2022-01-01 00:19:09       4               0   NaN  \n",
       "\n",
       "[61594 rows x 4 columns]"
      ]
     },
     "execution_count": 74,
     "metadata": {},
     "output_type": "execute_result"
    }
   ],
   "source": [
    "# reading data\n",
    "df = pd.read_csv(\"./Spotify.csv\", index_col=0)\n",
    "df"
   ]
  },
  {
   "cell_type": "code",
   "execution_count": 75,
   "id": "37de0dc9-02b2-46ba-89a5-3fc63416748b",
   "metadata": {},
   "outputs": [
    {
     "data": {
      "text/plain": [
       "<Axes: ylabel='Frequency'>"
      ]
     },
     "execution_count": 75,
     "metadata": {},
     "output_type": "execute_result"
    },
    {
     "data": {
      "image/png": "[encoded data removed]",
      "text/plain": [
       "<Figure size 640x480 with 1 Axes>"
      ]
     },
     "metadata": {},
     "output_type": "display_data"
    }
   ],
   "source": [
    "df[\"Rating\"].plot(kind=\"hist\")"
   ]
  },
  {
   "cell_type": "code",
   "execution_count": 76,
   "id": "d7e16d84-c4b0-4b0d-b15d-eb16e4fde2df",
   "metadata": {},
   "outputs": [],
   "source": [
    "# Drop rows with Rating = 3 as the neutral reviews would confuse the classifiers in deciding good and bad sentiments\n",
    "df = df[df[\"Rating\"] != 3]"
   ]
  },
  {
   "cell_type": "code",
   "execution_count": 77,
   "id": "3fdd9b03-cc04-48ff-85c5-b578f12674d2",
   "metadata": {},
   "outputs": [
    {
     "data": {
      "text/plain": [
       "<Axes: ylabel='Frequency'>"
      ]
     },
     "execution_count": 77,
     "metadata": {},
     "output_type": "execute_result"
    },
    {
     "data": {
      "image/png": "[encoded data removed]",
      "text/plain": [
       "<Figure size 640x480 with 1 Axes>"
      ]
     },
     "metadata": {},
     "output_type": "display_data"
    }
   ],
   "source": [
    "df[\"Rating\"].plot(kind=\"hist\")"
   ]
  },
  {
   "cell_type": "code",
   "execution_count": 78,
   "id": "93ef3dfe-1ef2-445b-8c83-e71aaa78239d",
   "metadata": {},
   "outputs": [
    {
     "name": "stderr",
     "output_type": "stream",
     "text": [
      "/tmp/ipykernel_897435/3663879288.py:2: SettingWithCopyWarning: \n",
      "A value is trying to be set on a copy of a slice from a DataFrame.\n",
      "Try using .loc[row_indexer,col_indexer] = value instead\n",
      "\n",
      "See the caveats in the documentation: https://pandas.pydata.org/pandas-docs/stable/user_guide/indexing.html#returning-a-view-versus-a-copy\n",
      "  df[\"Sentiment\"] = df[\"Rating\"].apply(lambda x: \"negative\" if x < 3 else \"positive\")\n"
     ]
    }
   ],
   "source": [
    "# creating new sentiment column\n",
    "df[\"Sentiment\"] = df[\"Rating\"].apply(lambda x: \"negative\" if x < 3 else \"positive\")"
   ]
  },
  {
   "cell_type": "code",
   "execution_count": 79,
   "id": "1abf558f-9d76-4c64-a03f-824a38559054",
   "metadata": {},
   "outputs": [
    {
     "data": {
      "text/html": [
       "<div>\n",
       "<style scoped>\n",
       "    .dataframe tbody tr th:only-of-type {\n",
       "        vertical-align: middle;\n",
       "    }\n",
       "\n",
       "    .dataframe tbody tr th {\n",
       "        vertical-align: top;\n",
       "    }\n",
       "\n",
       "    .dataframe thead th {\n",
       "        text-align: right;\n",
       "    }\n",
       "</style>\n",
       "<table border=\"1\" class=\"dataframe\">\n",
       "  <thead>\n",
       "    <tr style=\"text-align: right;\">\n",
       "      <th></th>\n",
       "      <th>Review</th>\n",
       "      <th>Rating</th>\n",
       "      <th>Total_thumbsup</th>\n",
       "      <th>Reply</th>\n",
       "      <th>Sentiment</th>\n",
       "    </tr>\n",
       "    <tr>\n",
       "      <th>Time_submitted</th>\n",
       "      <th></th>\n",
       "      <th></th>\n",
       "      <th></th>\n",
       "      <th></th>\n",
       "      <th></th>\n",
       "    </tr>\n",
       "  </thead>\n",
       "  <tbody>\n",
       "    <tr>\n",
       "      <th>2022-07-09 15:00:00</th>\n",
       "      <td>Great music service, the audio is high quality...</td>\n",
       "      <td>5</td>\n",
       "      <td>2</td>\n",
       "      <td>NaN</td>\n",
       "      <td>positive</td>\n",
       "    </tr>\n",
       "    <tr>\n",
       "      <th>2022-07-09 14:21:22</th>\n",
       "      <td>Please ignore previous negative rating. This a...</td>\n",
       "      <td>5</td>\n",
       "      <td>1</td>\n",
       "      <td>NaN</td>\n",
       "      <td>positive</td>\n",
       "    </tr>\n",
       "    <tr>\n",
       "      <th>2022-07-09 13:27:32</th>\n",
       "      <td>This pop-up \"Get the best Spotify experience o...</td>\n",
       "      <td>4</td>\n",
       "      <td>0</td>\n",
       "      <td>NaN</td>\n",
       "      <td>positive</td>\n",
       "    </tr>\n",
       "    <tr>\n",
       "      <th>2022-07-09 13:26:45</th>\n",
       "      <td>Really buggy and terrible to use as of recently</td>\n",
       "      <td>1</td>\n",
       "      <td>1</td>\n",
       "      <td>NaN</td>\n",
       "      <td>negative</td>\n",
       "    </tr>\n",
       "    <tr>\n",
       "      <th>2022-07-09 13:20:49</th>\n",
       "      <td>Dear Spotify why do I get songs that I didn't ...</td>\n",
       "      <td>1</td>\n",
       "      <td>1</td>\n",
       "      <td>NaN</td>\n",
       "      <td>negative</td>\n",
       "    </tr>\n",
       "  </tbody>\n",
       "</table>\n",
       "</div>"
      ],
      "text/plain": [
       "                                                                Review  \\\n",
       "Time_submitted                                                           \n",
       "2022-07-09 15:00:00  Great music service, the audio is high quality...   \n",
       "2022-07-09 14:21:22  Please ignore previous negative rating. This a...   \n",
       "2022-07-09 13:27:32  This pop-up \"Get the best Spotify experience o...   \n",
       "2022-07-09 13:26:45    Really buggy and terrible to use as of recently   \n",
       "2022-07-09 13:20:49  Dear Spotify why do I get songs that I didn't ...   \n",
       "\n",
       "                     Rating  Total_thumbsup Reply Sentiment  \n",
       "Time_submitted                                               \n",
       "2022-07-09 15:00:00       5               2   NaN  positive  \n",
       "2022-07-09 14:21:22       5               1   NaN  positive  \n",
       "2022-07-09 13:27:32       4               0   NaN  positive  \n",
       "2022-07-09 13:26:45       1               1   NaN  negative  \n",
       "2022-07-09 13:20:49       1               1   NaN  negative  "
      ]
     },
     "execution_count": 79,
     "metadata": {},
     "output_type": "execute_result"
    }
   ],
   "source": [
    "df.head()"
   ]
  },
  {
   "cell_type": "code",
   "execution_count": 80,
   "id": "6ad51ec2-89f5-4868-b370-f71b8e404048",
   "metadata": {},
   "outputs": [
    {
     "data": {
      "text/plain": [
       "Sentiment  Rating\n",
       "negative   1         17653\n",
       "           2          7118\n",
       "positive   5         22095\n",
       "           4          7842\n",
       "Name: Rating, dtype: int64"
      ]
     },
     "execution_count": 80,
     "metadata": {},
     "output_type": "execute_result"
    }
   ],
   "source": [
    "df.groupby(\"Sentiment\")[\"Rating\"].value_counts()"
   ]
  },
  {
   "cell_type": "markdown",
   "id": "845417e3-2a70-4076-a6a0-58fa9347429e",
   "metadata": {},
   "source": [
    "Seems like the Reviews are well distributed with respect to sentiment"
   ]
  },
  {
   "cell_type": "markdown",
   "id": "4e7fecbb-89f7-4d11-9bf8-c81556be007e",
   "metadata": {},
   "source": [
    "### Dummy baseline\n",
    "This Dummy classifier is used to compare the performance of more advanced classification models."
   ]
  },
  {
   "cell_type": "code",
   "execution_count": 81,
   "id": "48982763-cdb6-400c-a443-5bc3aa12ade7",
   "metadata": {},
   "outputs": [],
   "source": [
    "from sklearn.dummy import DummyClassifier\n",
    "from sklearn.metrics import accuracy_score, classification_report\n",
    "from sklearn.model_selection import train_test_split"
   ]
  },
  {
   "cell_type": "code",
   "execution_count": 82,
   "id": "e0fc085b-d809-4c56-8341-cc01d3914cb3",
   "metadata": {},
   "outputs": [],
   "source": [
    "train, test = train_test_split(\n",
    "    df, test_size=0.2, stratify=df[\"Sentiment\"], random_state=619\n",
    ")"
   ]
  },
  {
   "cell_type": "code",
   "execution_count": 83,
   "id": "2942d378-4178-4ab5-b45f-dd4fb17286cd",
   "metadata": {},
   "outputs": [
    {
     "name": "stdout",
     "output_type": "stream",
     "text": [
      "0.5472491317857796\n"
     ]
    }
   ],
   "source": [
    "dummy = DummyClassifier()\n",
    "dummy.fit(train[\"Review\"], train[\"Sentiment\"])\n",
    "print(accuracy_score(test[\"Sentiment\"], dummy.predict(test[\"Review\"])))"
   ]
  },
  {
   "cell_type": "markdown",
   "id": "81f4b675-2d4b-4856-9764-458be63ae9c8",
   "metadata": {},
   "source": [
    "### VADER"
   ]
  },
  {
   "cell_type": "code",
   "execution_count": 84,
   "id": "5cdb60d3-2112-4c65-94f5-a19cc88eba40",
   "metadata": {},
   "outputs": [],
   "source": [
    "import matplotlib.pyplot as plt\n",
    "import nltk\n",
    "from nltk.sentiment.vader import SentimentIntensityAnalyzer"
   ]
  },
  {
   "cell_type": "markdown",
   "id": "dbc681d6-8814-4f77-ad96-cfbc0d2b1786",
   "metadata": {},
   "source": [
    "### Compound scores\n",
    "VADER \"compound\" scores are an aggregate measure of overall sentiment. VADER uses a predefined lexicon so there's no need for \"training\" data."
   ]
  },
  {
   "cell_type": "code",
   "execution_count": 85,
   "id": "8015a38a-aba3-40bb-9ab1-ac686f6b1719",
   "metadata": {},
   "outputs": [
    {
     "data": {
      "application/vnd.jupyter.widget-view+json": {
       "model_id": "8cba1284a6f9443a95d7aabef4a9c0cc",
       "version_major": 2,
       "version_minor": 0
      },
      "text/plain": [
       "  0%|          | 0/43766 [00:00<?, ?it/s]"
      ]
     },
     "metadata": {},
     "output_type": "display_data"
    },
    {
     "data": {
      "application/vnd.jupyter.widget-view+json": {
       "model_id": "cd6d70009d634846bfe1073317a8fefd",
       "version_major": 2,
       "version_minor": 0
      },
      "text/plain": [
       "  0%|          | 0/10942 [00:00<?, ?it/s]"
      ]
     },
     "metadata": {},
     "output_type": "display_data"
    }
   ],
   "source": [
    "#creating an instance of the SentimentIntensityAnalyzer\n",
    "analyzer = SentimentIntensityAnalyzer()\n",
    "\n",
    "\n",
    "def get_sentiment(text):\n",
    "    return analyzer.polarity_scores(text)[\"compound\"]\n",
    "\n",
    "\n",
    "train[\"vader\"] = train[\"Review\"].progress_apply(get_sentiment)\n",
    "test[\"vader\"] = test[\"Review\"].progress_apply(get_sentiment)"
   ]
  },
  {
   "cell_type": "markdown",
   "id": "9736fb93-ecb3-43ef-a84b-d32b920688b2",
   "metadata": {},
   "source": [
    "Highly positive reviews have high compound scores. Highly negative reviews have low compound scores on average, but there is a lot of variation"
   ]
  },
  {
   "cell_type": "code",
   "execution_count": 86,
   "id": "5d407345-4df9-409f-bb9f-b06366ae4bbf",
   "metadata": {},
   "outputs": [
    {
     "data": {
      "image/png": "[encoded data removed]",
      "text/plain": [
       "<Figure size 640x480 with 1 Axes>"
      ]
     },
     "metadata": {},
     "output_type": "display_data"
    }
   ],
   "source": [
    "#Showing distribution of VADER composite scores for different ratings.\n",
    "train.boxplot(\"vader\", by=\"Rating\", grid=False, showfliers=False)\n",
    "plt.ylabel(\"VADER composite\")\n",
    "plt.title(\"Boxplot Grouped by Rating\")\n",
    "plt.show()"
   ]
  },
  {
   "cell_type": "markdown",
   "id": "6bee773e-053e-4ec6-ac5d-c7123cadc0d4",
   "metadata": {},
   "source": [
    "Can we find a cutoff value theta, where compound>theta = good review and compound<=theta = bad review? We'll find a threshold using the training data and then test it on our test data."
   ]
  },
  {
   "cell_type": "code",
   "execution_count": 87,
   "id": "91b863f2-59b4-4b9c-8940-36a12af3ba5e",
   "metadata": {},
   "outputs": [],
   "source": [
    "theta = np.linspace(-1.0, 1.0, 50)#NumPy Python library to create an array of 50 equally spaced values between -1.0 and 1.0, \n",
    "#inclusive. \n",
    "compound = [\n",
    "    accuracy_score((train[\"vader\"] > t), (train[\"Sentiment\"] == \"positive\")) for t in theta\n",
    "]"
   ]
  },
  {
   "cell_type": "code",
   "execution_count": 88,
   "id": "8da09198-1473-44f6-adf8-d67633d5b3f8",
   "metadata": {},
   "outputs": [
    {
     "data": {
      "image/png": "[encoded data removed]",
      "text/plain": [
       "<Figure size 640x480 with 1 Axes>"
      ]
     },
     "metadata": {},
     "output_type": "display_data"
    }
   ],
   "source": [
    "plt.plot(theta, compound)\n",
    "plt.xlabel(\"VADER cutoff\")\n",
    "plt.ylabel(\"Train acc.\")\n",
    "plt.show()"
   ]
  },
  {
   "cell_type": "code",
   "execution_count": 89,
   "id": "85a398e0-61bc-4395-a51b-900572256935",
   "metadata": {},
   "outputs": [
    {
     "data": {
      "text/plain": [
       "0.346938775510204"
      ]
     },
     "execution_count": 89,
     "metadata": {},
     "output_type": "execute_result"
    }
   ],
   "source": [
    "theta[np.argmax(compound)]"
   ]
  },
  {
   "cell_type": "code",
   "execution_count": 90,
   "id": "a7645da9-8f74-442e-a5dc-f811526e64bf",
   "metadata": {},
   "outputs": [
    {
     "data": {
      "text/plain": [
       "0.7807530615975141"
      ]
     },
     "execution_count": 90,
     "metadata": {},
     "output_type": "execute_result"
    }
   ],
   "source": [
    "thresh = _\n",
    "accuracy_score((test[\"vader\"] > thresh), (test[\"Sentiment\"] == \"positive\"))"
   ]
  },
  {
   "cell_type": "markdown",
   "id": "e11e7cbe-899b-48f4-9b29-1b85ad9f5ea4",
   "metadata": {},
   "source": [
    "### Parsing the input"
   ]
  },
  {
   "cell_type": "code",
   "execution_count": 91,
   "id": "6d3b4f82-fc11-4506-9a2d-c318bb060a4d",
   "metadata": {},
   "outputs": [],
   "source": [
    "import spacy\n",
    "from spacy import displacy\n",
    "from spacy.tokens import DocBin\n",
    "\n",
    "nlp = spacy.load(\"en_core_web_lg\", exclude=[\"ner\"])"
   ]
  },
  {
   "cell_type": "code",
   "execution_count": 92,
   "id": "77260ecf-f187-41d3-aedb-acbf7198f9b6",
   "metadata": {},
   "outputs": [
    {
     "data": {
      "application/vnd.jupyter.widget-view+json": {
       "model_id": "614adcab2f854ddbb69d3c98321bafa9",
       "version_major": 2,
       "version_minor": 0
      },
      "text/plain": [
       "  0%|          | 0/54708 [00:00<?, ?it/s]"
      ]
     },
     "metadata": {},
     "output_type": "display_data"
    }
   ],
   "source": [
    "docs = DocBin(docs=nlp.pipe(tqdm(df['Review']), n_process=4))\n",
    "docs.to_disk('parsed.docbin')\n",
    "\n",
    "#Finally, the DocBin object is saved to disk in a file named \"parsed.docbin\". This allows the processed documents to be \n",
    "#easily loaded and reused in the future, without having to re-run the processing pipeline on the raw text data."
   ]
  },
  {
   "cell_type": "code",
   "execution_count": 93,
   "id": "a91119b3-5a6e-4fe3-9c3c-7367ed17286c",
   "metadata": {},
   "outputs": [
    {
     "name": "stderr",
     "output_type": "stream",
     "text": [
      "/tmp/ipykernel_897435/1520216898.py:2: SettingWithCopyWarning: \n",
      "A value is trying to be set on a copy of a slice from a DataFrame.\n",
      "Try using .loc[row_indexer,col_indexer] = value instead\n",
      "\n",
      "See the caveats in the documentation: https://pandas.pydata.org/pandas-docs/stable/user_guide/indexing.html#returning-a-view-versus-a-copy\n",
      "  df[\"doc\"] = list(docs.get_docs(nlp.vocab))\n"
     ]
    }
   ],
   "source": [
    "docs = DocBin().from_disk(\"parsed.docbin\")\n",
    "df[\"doc\"] = list(docs.get_docs(nlp.vocab))"
   ]
  },
  {
   "cell_type": "code",
   "execution_count": 94,
   "id": "7f7084d6-12cc-496a-a3da-c3a46a8e62b0",
   "metadata": {},
   "outputs": [],
   "source": [
    "train, test = train_test_split(\n",
    "    df, test_size=0.2, stratify=df[\"Sentiment\"], random_state=619\n",
    ")"
   ]
  },
  {
   "cell_type": "markdown",
   "id": "f203f1df-d8d2-48e4-afc9-5ccd32e04a61",
   "metadata": {},
   "source": [
    "## Syntactically augmented classification\n",
    "The easiest way to add syntactic information to SGDClassifier is by augmenting the words in the text. That is, if we want to indicate that word is in the scope of negation we'll prefix the word with NOT:"
   ]
  },
  {
   "cell_type": "code",
   "execution_count": 95,
   "id": "c02f100f-8eaf-4298-8d52-a7f2d2ce862f",
   "metadata": {},
   "outputs": [],
   "source": [
    "from spacy.tokens import Token\n",
    "\n",
    "Token.set_extension(\"neg\", default=False, force=True)"
   ]
  },
  {
   "cell_type": "code",
   "execution_count": 96,
   "id": "9d5afc9b-b387-4c75-b49e-f3e9b50cff27",
   "metadata": {},
   "outputs": [],
   "source": [
    "def simple_negation(doc):\n",
    "    for tok in doc:\n",
    "        tok._.neg = False\n",
    "    for tok in doc:\n",
    "        if tok.dep_ == \"neg\":\n",
    "            tok.head._.neg = True\n",
    "    return doc\n",
    "\n",
    "\n",
    "def add_not(tok):\n",
    "    if tok._.neg:\n",
    "        return \"NOT:\" + tok.norm_\n",
    "    else:\n",
    "        return tok.norm_\n",
    "\n",
    "\n",
    "def tokenize_not(negator):\n",
    "    def tokenize(doc):\n",
    "        return [add_not(t) for t in negator(doc)]\n",
    "\n",
    "    return tokenize"
   ]
  },
  {
   "cell_type": "code",
   "execution_count": 97,
   "id": "ab552fe8-74ee-41a1-b1a1-134c018d684d",
   "metadata": {},
   "outputs": [
    {
     "data": {
      "text/plain": [
       "0.899652714311826"
      ]
     },
     "execution_count": 97,
     "metadata": {},
     "output_type": "execute_result"
    }
   ],
   "source": [
    "m1 = make_pipeline(\n",
    "    CountVectorizer(\n",
    "        preprocessor=identity,\n",
    "        tokenizer=tokenize_not(simple_negation),\n",
    "        token_pattern=None,\n",
    "    ),\n",
    "    TfidfTransformer(),\n",
    "    SGDClassifier(random_state=1),\n",
    ")\n",
    "m1.fit(train[\"doc\"], train[\"Sentiment\"])\n",
    "m1.score(test[\"doc\"], test[\"Sentiment\"])"
   ]
  },
  {
   "cell_type": "code",
   "execution_count": 98,
   "id": "e78c03c8-e454-44b3-9ffd-dc288446255b",
   "metadata": {},
   "outputs": [],
   "source": [
    "# defining function to identify important words\n",
    "def print_top_feats(M, k=0):\n",
    "    V = M.named_steps[\"countvectorizer\"].get_feature_names_out()\n",
    "    coef = M.named_steps[\"sgdclassifier\"].coef_[0]\n",
    "    order = coef.argsort()\n",
    "    for w1, w2 in zip(order[-k:][::-1], order[:k]):\n",
    "        print(f\"{V[w1]:20s} {coef[w1]:7.3f} | {V[w2]:20s} {coef[w2]:7.3f}\")"
   ]
  },
  {
   "cell_type": "markdown",
   "id": "c887a267-e55b-474f-b89e-9bde531010be",
   "metadata": {},
   "source": [
    "The most important features (words) that contribute positively or negatively to the classification model's decision-making process, based on their corresponding coefficients by SGD classifier with prefixing NOT are as follows"
   ]
  },
  {
   "cell_type": "code",
   "execution_count": 99,
   "id": "327c8f3d-8d2a-4188-b729-82bf4feb0e83",
   "metadata": {},
   "outputs": [
    {
     "name": "stdout",
     "output_type": "stream",
     "text": [
      "love                   5.879 | not                   -4.109\n",
      "great                  5.303 | worst                 -3.589\n",
      "best                   4.609 | misinformation        -2.729\n",
      "good                   3.956 | horrible              -2.462\n",
      "amazing                3.927 | buggy                 -2.360\n",
      "easy                   3.041 | worse                 -2.309\n",
      "awesome                2.839 | trash                 -2.276\n",
      "nice                   2.692 | terrible              -2.243\n",
      "thank                  2.532 | useless               -2.216\n",
      "excellent              2.446 | sucks                 -2.192\n",
      "perfect                2.306 | fix                   -2.162\n",
      "enjoy                  2.196 | bad                   -2.111\n",
      "wish                   2.013 | hate                  -2.068\n",
      "favorite               1.912 | poor                  -1.951\n",
      "but                    1.912 | now                   -1.937\n",
      "wonderful              1.846 | constantly            -1.933\n",
      "music                  1.823 | frustrating           -1.911\n",
      "thanks                 1.801 | crashes               -1.883\n",
      "cool                   1.721 | awful                 -1.876\n",
      "worth                  1.663 | NOT:longer            -1.735\n",
      "overall                1.655 | keeps                 -1.724\n",
      "happy                  1.647 | unusable              -1.707\n",
      "like                   1.646 | uninstalled           -1.704\n",
      "enjoying               1.572 | disappointing         -1.703\n",
      "fantastic              1.571 | garbage               -1.690\n",
      "sometimes              1.566 | to                    -1.669\n",
      "life                   1.519 | NOT:play              -1.664\n",
      "NOT:have               1.516 | deleting              -1.628\n",
      "brilliant              1.511 | until                 -1.612\n",
      "except                 1.501 | update                -1.581\n",
      "recommend              1.494 | stupid                -1.568\n",
      "find                   1.444 | annoying              -1.558\n",
      "loving                 1.411 | was                   -1.543\n",
      "stars                  1.401 | even                  -1.530\n",
      "far                    1.334 | 😡                     -1.530\n",
      "years                  1.298 | gone                  -1.514\n",
      "exceptional            1.286 | slow                  -1.504\n",
      "solid                  1.262 | 2                     -1.502\n",
      "some                   1.259 | plays                 -1.487\n",
      "beautiful              1.244 | crashing              -1.475\n",
      "otherwise              1.239 | company               -1.471\n",
      "smooth                 1.228 | itself                -1.468\n",
      "glad                   1.214 | play                  -1.442\n",
      "NOT:live               1.202 | minutes               -1.441\n",
      "NOT:had                1.200 | uninstall             -1.427\n",
      "👍                      1.191 | impossible            -1.423\n",
      ":)                     1.189 | ridiculous            -1.410\n",
      "well                   1.187 | glitchy               -1.408\n",
      "apart                  1.153 | paying                -1.401\n",
      "bit                    1.140 | used                  -1.399\n"
     ]
    }
   ],
   "source": [
    "print_top_feats(m1, 50)"
   ]
  },
  {
   "cell_type": "markdown",
   "id": "22a9f847-f541-4c63-bc7a-e2d45c1c941b",
   "metadata": {},
   "source": [
    "Next step: once we've identified negated words, we'll spread the negative marker onto dependent words that come to the right of the negate word. Not all words to the right, though. Just ones that are dependents of the negated word."
   ]
  },
  {
   "cell_type": "code",
   "execution_count": 100,
   "id": "121032f5-49fc-4ca0-91dd-360b2468c2f0",
   "metadata": {},
   "outputs": [],
   "source": [
    "def negify(tok):\n",
    "    tok._.neg = True\n",
    "    for child in tok.children:\n",
    "        negify(child)\n",
    "\n",
    "\n",
    "def negate_comps(doc):\n",
    "    for tok in doc:\n",
    "        tok._.neg = False\n",
    "    for tok in doc:\n",
    "        if tok.dep_ == \"neg\":\n",
    "            tok.head._.neg = True\n",
    "            for right_tok in tok.head.rights:\n",
    "                if right_tok.dep_ in [\"acomp\", \"advmod\", \"dobj\", \"prep\", \"xcomp\"]:\n",
    "                    negify(right_tok)\n",
    "    return doc"
   ]
  },
  {
   "cell_type": "code",
   "execution_count": 101,
   "id": "a36b4022-564d-4571-83da-8e818a9c7b63",
   "metadata": {},
   "outputs": [
    {
     "data": {
      "text/plain": [
       "0.9000182781941144"
      ]
     },
     "execution_count": 101,
     "metadata": {},
     "output_type": "execute_result"
    }
   ],
   "source": [
    "m2 = make_pipeline(\n",
    "    CountVectorizer(\n",
    "        preprocessor=identity, tokenizer=tokenize_not(negate_comps), token_pattern=None\n",
    "    ),\n",
    "    TfidfTransformer(),\n",
    "    SGDClassifier(alpha=1e-4, random_state=1),\n",
    ")\n",
    "m2.fit(train[\"doc\"], train[\"Sentiment\"])\n",
    "m2.score(test[\"doc\"], test[\"Sentiment\"])"
   ]
  },
  {
   "cell_type": "markdown",
   "id": "18558e65-0410-4e05-9d92-ebf4636a96dd",
   "metadata": {},
   "source": [
    "The most important features (words) that contribute positively or negatively to the classification model's decision-making process, based on their corresponding coefficients by SGD classifier with spreading the negative marker onto dependent words are as follows "
   ]
  },
  {
   "cell_type": "code",
   "execution_count": 102,
   "id": "a6092cba-8ee4-4a50-8827-a2e6c91c761e",
   "metadata": {},
   "outputs": [
    {
     "name": "stdout",
     "output_type": "stream",
     "text": [
      "love                   5.831 | not                   -3.831\n",
      "great                  5.421 | worst                 -3.596\n",
      "best                   4.643 | misinformation        -2.656\n",
      "good                   4.142 | horrible              -2.375\n",
      "amazing                3.894 | bad                   -2.365\n",
      "easy                   3.007 | worse                 -2.322\n",
      "awesome                2.881 | buggy                 -2.312\n",
      "nice                   2.763 | trash                 -2.303\n",
      "thank                  2.589 | sucks                 -2.269\n",
      "excellent              2.467 | terrible              -2.254\n",
      "perfect                2.380 | fix                   -2.207\n",
      "enjoy                  2.126 | hate                  -2.082\n",
      "worth                  2.100 | useless               -2.049\n",
      "favorite               2.089 | poor                  -2.001\n",
      "wish                   2.008 | now                   -1.986\n",
      "music                  2.005 | frustrating           -1.930\n",
      "wonderful              1.974 | constantly            -1.918\n",
      "but                    1.927 | crashes               -1.876\n",
      "thanks                 1.844 | awful                 -1.829\n",
      "cool                   1.716 | keeps                 -1.792\n",
      "like                   1.641 | NOT:longer            -1.745\n",
      "happy                  1.636 | unusable              -1.740\n",
      "overall                1.607 | uninstalled           -1.725\n",
      "enjoying               1.531 | to                    -1.709\n",
      "fantastic              1.522 | garbage               -1.693\n",
      "sometimes              1.520 | disappointing         -1.666\n",
      "brilliant              1.516 | until                 -1.664\n",
      "except                 1.485 | NOT:play              -1.635\n",
      "loving                 1.463 | annoying              -1.632\n",
      "recommend              1.455 | deleting              -1.608\n",
      "stars                  1.455 | was                   -1.589\n",
      "life                   1.444 | stupid                -1.549\n",
      "NOT:live               1.429 | 2                     -1.537\n",
      "find                   1.402 | crashing              -1.531\n",
      "able                   1.363 | update                -1.530\n",
      "some                   1.351 | even                  -1.526\n",
      "well                   1.324 | 😡                     -1.514\n",
      "years                  1.310 | plays                 -1.510\n",
      "NOT:have               1.306 | glitchy               -1.495\n",
      "far                    1.278 | gone                  -1.464\n",
      "exceptional            1.277 | removed               -1.456\n",
      "beautiful              1.270 | itself                -1.449\n",
      "otherwise              1.255 | used                  -1.440\n",
      "glad                   1.244 | pay                   -1.438\n",
      "solid                  1.243 | slow                  -1.435\n",
      "smooth                 1.234 | paying                -1.431\n",
      "complaint              1.205 | play                  -1.417\n",
      "NOT:had                1.205 | impossible            -1.407\n",
      "bit                    1.185 | company               -1.386\n",
      "little                 1.161 | account               -1.367\n"
     ]
    }
   ],
   "source": [
    "print_top_feats(m2, 50)"
   ]
  },
  {
   "cell_type": "markdown",
   "id": "cae47f58-4f58-4c0a-8cba-34afc6f0e3a3",
   "metadata": {},
   "source": [
    "Next, we'll combine heads with their modifiers"
   ]
  },
  {
   "cell_type": "code",
   "execution_count": 103,
   "id": "231dc647-b24f-4125-ad11-593bc9e273da",
   "metadata": {},
   "outputs": [],
   "source": [
    "def mod_tokenizer(doc):\n",
    "    doc = negate_comps(doc)\n",
    "    toks = [add_not(tok) for tok in doc]\n",
    "    toks = toks + [\n",
    "        add_not(t.head) + \"_\" + add_not(t) for t in doc if t.dep_ in [\"amod\", \"advmod\"]\n",
    "    ]\n",
    "    return toks"
   ]
  },
  {
   "cell_type": "code",
   "execution_count": 104,
   "id": "78cbcddb-0dfd-4160-b59f-e44d9a37e765",
   "metadata": {},
   "outputs": [
    {
     "data": {
      "text/plain": [
       "0.9023944434289892"
      ]
     },
     "execution_count": 104,
     "metadata": {},
     "output_type": "execute_result"
    }
   ],
   "source": [
    "m3 = make_pipeline(\n",
    "    CountVectorizer(preprocessor=identity, tokenizer=mod_tokenizer, token_pattern=None),\n",
    "    TfidfTransformer(),\n",
    "    SGDClassifier(),\n",
    ")\n",
    "m3.fit(train[\"doc\"], train[\"Sentiment\"])\n",
    "m3.score(test[\"doc\"], test[\"Sentiment\"])"
   ]
  },
  {
   "cell_type": "markdown",
   "id": "8913a995-ad16-476f-89f8-770c3195608c",
   "metadata": {},
   "source": [
    "The most important features (words) that contribute positively or negatively to the classification model's decision-making process, based on their corresponding coefficients by SGD classifier combine heads with their modifiers are as follows"
   ]
  },
  {
   "cell_type": "code",
   "execution_count": 105,
   "id": "28dfe231-f2fc-4b2a-85fd-07481c798ed7",
   "metadata": {},
   "outputs": [
    {
     "name": "stdout",
     "output_type": "stream",
     "text": [
      "love                   6.218 | not                   -4.170\n",
      "great                  5.202 | worst                 -3.291\n",
      "best                   4.516 | misinformation        -2.568\n",
      "good                   3.950 | horrible              -2.463\n",
      "amazing                3.930 | worse                 -2.452\n",
      "easy                   3.225 | bad                   -2.389\n",
      "awesome                2.996 | terrible              -2.322\n",
      "thank                  2.631 | sucks                 -2.312\n",
      "nice                   2.455 | now                   -2.297\n",
      "excellent              2.385 | fix                   -2.254\n",
      "perfect                2.370 | buggy                 -2.232\n",
      "music                  2.325 | trash                 -2.198\n",
      "but                    2.188 | constantly            -2.058\n",
      "enjoy                  2.163 | useless               -2.039\n",
      "worth                  2.050 | hate                  -2.007\n",
      "favorite               2.049 | crashes               -1.998\n",
      "thanks                 1.997 | keeps                 -1.907\n",
      "wish                   1.970 | poor                  -1.901\n",
      "app_great              1.907 | awful                 -1.836\n",
      "cool                   1.824 | even                  -1.817\n",
      "wonderful              1.799 | unusable              -1.807\n",
      "problem_only           1.780 | NOT:play              -1.797\n",
      "like                   1.747 | to                    -1.794\n",
      "happy                  1.658 | frustrating           -1.788\n",
      "stars                  1.613 | until                 -1.761\n",
      "good_really            1.588 | used                  -1.732\n",
      "overall                1.503 | uninstalled           -1.727\n",
      "fantastic              1.499 | garbage               -1.694\n",
      "brilliant              1.483 | NOT:longer            -1.692\n",
      "life                   1.466 | removed               -1.611\n",
      "app_best               1.465 | 😡                     -1.602\n",
      "some                   1.460 | 2                     -1.598\n",
      "enjoying               1.453 | disappointing         -1.596\n",
      "loving                 1.437 | play                  -1.589\n",
      "NOT:live               1.435 | why                   -1.573\n",
      "issue_only             1.432 | deleting              -1.571\n",
      "sometimes              1.431 | was                   -1.548\n",
      "except                 1.399 | randomly              -1.527\n",
      "recommend              1.394 | ads_more              -1.526\n",
      "able                   1.392 | pay                   -1.525\n",
      "find                   1.367 | ?                     -1.513\n",
      "NOT:have               1.352 | crashing              -1.508\n",
      "years                  1.296 | plays                 -1.488\n",
      "bit                    1.262 | stupid                -1.482\n",
      "well                   1.259 | update                -1.479\n",
      "little                 1.252 | account               -1.473\n",
      "beautiful              1.237 | no                    -1.447\n",
      "far_so                 1.235 | paying                -1.433\n",
      "everything             1.231 | money                 -1.429\n",
      "spotify                1.229 | minutes               -1.426\n"
     ]
    }
   ],
   "source": [
    "print_top_feats(m3, 50)"
   ]
  },
  {
   "cell_type": "markdown",
   "id": "a9bf79d2-a60e-47da-b224-1c7b2f1aa0c1",
   "metadata": {},
   "source": [
    "## Conclusion:\n",
    "Based on the results of the sentiment analysis project on Spotify app reviews, different approaches were applied to enhance the accuracy of the SGD classifier. Here's the conclusion based on the accuracy scores obtained:\n",
    "\n",
    "Using the \"NOT\" prefix for negation scope achieved an accuracy score of 0.8997. This approach accounted for negations by adding the \"NOT\" prefix to words within the scope of negation. Although it improved the accuracy, there is still room for further enhancement.\n",
    "\n",
    "Employing the spread of the negative marker onto dependent words to the right of the negation word resulted in an accuracy score of 0.9000. This approach expanded the negative influence of a negation word to its dependent words on the right. It slightly improved accuracy compared to the \"NOT\" prefix approach.\n",
    "\n",
    "Combining heads with their modifiers yielded the highest accuracy score of 0.9027. This approach involved considering the relationship between the main word (head) and its modifying words. By combining them, it captured more nuanced sentiment expressions, resulting in a higher accuracy score.\n",
    "\n",
    "Based on these results, it can be concluded that combining heads with their modifiers was the most effective approach for sentiment analysis on Spotify app reviews. It outperformed the other two approaches and achieved the highest accuracy score. This suggests that considering the relationship between words and capturing their modifying context can lead to more accurate sentiment analysis results.\n",
    "\n",
    "However, it is worth noting that even with the highest accuracy achieved, there is still room for improvement. Further exploration of different techniques, feature engineering, or the use of more advanced models may help enhance the sentiment analysis accuracy even further in future iterations of the project."
   ]
  },
  {
   "cell_type": "code",
   "execution_count": null,
   "id": "567dece9-43b7-4573-91a7-202f8d2d5d41",
   "metadata": {},
   "outputs": [],
   "source": []
  }
 ],
 "metadata": {
  "kernelspec": {
   "display_name": "Python 3 (ipykernel)",
   "language": "python",
   "name": "python3"
  },
  "language_info": {
   "codemirror_mode": {
    "name": "ipython",
    "version": 3
   },
   "file_extension": ".py",
   "mimetype": "text/x-python",
   "name": "python",
   "nbconvert_exporter": "python",
   "pygments_lexer": "ipython3",
   "version": "3.10.8"
  }
 },
 "nbformat": 4,
 "nbformat_minor": 5
}
